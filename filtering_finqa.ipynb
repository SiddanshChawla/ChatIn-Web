{
  "nbformat": 4,
  "nbformat_minor": 0,
  "metadata": {
    "colab": {
      "provenance": [],
      "authorship_tag": "ABX9TyNDoZjRbK86YomJDML4QAT6"
    },
    "kernelspec": {
      "name": "python3",
      "display_name": "Python 3"
    },
    "language_info": {
      "name": "python"
    }
  },
  "cells": [
    {
      "cell_type": "markdown",
      "source": [
        "#FinQA"
      ],
      "metadata": {
        "id": "ihW6nW25FMeA"
      }
    },
    {
      "cell_type": "code",
      "execution_count": null,
      "metadata": {
        "id": "d89G1CJ28rf_"
      },
      "outputs": [],
      "source": [
        "import json\n",
        "with open('/content/train.json', 'r') as json_file_1:\n",
        "    train_1 = json.load(json_file_1)\n",
        "\n",
        "with open('/content/dev.json', 'r') as json_file_2:\n",
        "    train_2 = json.load(json_file_2)\n",
        "\n",
        "with open('/content/test.json', 'r') as json_file_3:\n",
        "    train_3 = json.load(json_file_3)\n"
      ]
    },
    {
      "cell_type": "code",
      "source": [
        "with open('', 'r') as json_file_3:\n",
        "    test = json.load(json_file_3)"
      ],
      "metadata": {
        "id": "XMwbKTD0LGaK"
      },
      "execution_count": null,
      "outputs": []
    },
    {
      "cell_type": "code",
      "source": [
        "combined_filtered_data = []\n",
        "combined_filtered_data.extend(train_1)\n",
        "combined_filtered_data.extend(train_2)\n",
        "combined_filtered_data.extend(train_3)"
      ],
      "metadata": {
        "id": "qi92fNblBo59"
      },
      "execution_count": null,
      "outputs": []
    },
    {
      "cell_type": "code",
      "source": [
        "len(combined_filtered_data)"
      ],
      "metadata": {
        "colab": {
          "base_uri": "https://localhost:8080/"
        },
        "id": "YD5K58cJBwVr",
        "outputId": "cb588bcb-82ac-4a06-fb2d-4d1a94b4d0df"
      },
      "execution_count": null,
      "outputs": [
        {
          "output_type": "execute_result",
          "data": {
            "text/plain": [
              "8281"
            ]
          },
          "metadata": {},
          "execution_count": 6
        }
      ]
    },
    {
      "cell_type": "code",
      "source": [
        "for curated_item in test:\n",
        "    criteria_to_compare = curated_item['question']\n",
        "    for main_item in combined_filtered_data:\n",
        "        if main_item['qa']['question'] == criteria_to_compare:\n",
        "            curated_item['answer'] = main_item['qa']['answer']\n",
        "            curated_item['exe_ans'] = main_item['qa']['exe_ans']"
      ],
      "metadata": {
        "id": "hSuPkTtQLFgn"
      },
      "execution_count": null,
      "outputs": []
    },
    {
      "cell_type": "code",
      "source": [
        "with open('', 'w') as file:\n",
        "    json.dump(test, file, indent=4)"
      ],
      "metadata": {
        "id": "ibBG6i0tMDVF"
      },
      "execution_count": null,
      "outputs": []
    },
    {
      "cell_type": "code",
      "source": [
        "data = []\n",
        "\n",
        "for cell in train:\n",
        "    question = cell[\"qa\"][\"question\"]\n",
        "    short_context = \" \".join(cell['qa']['gold_inds'].values())\n",
        "    answer = cell[\"qa\"][\"answer\"]\n",
        "    program = cell[\"qa\"]['program_re']\n",
        "    explanation = cell[\"qa\"][\"explanation\"]\n",
        "    program_ans = cell[\"qa\"][\"exe_ans\"]\n",
        "\n",
        "    data.append({\n",
        "        \"question\": question,\n",
        "        \"short_context\": short_context,\n",
        "        \"answer\": answer,\n",
        "        \"explanation\":explanation,\n",
        "        \"program\": program,\n",
        "        \"program_ans\":program_ans\n",
        "    })"
      ],
      "metadata": {
        "id": "Rpw71ywlBzbl"
      },
      "execution_count": null,
      "outputs": []
    },
    {
      "cell_type": "code",
      "source": [
        "with open(\"\", \"w\") as f:\n",
        "    json.dump(data, f, indent=4)"
      ],
      "metadata": {
        "id": "Q7Epp-r7C37y"
      },
      "execution_count": null,
      "outputs": []
    },
    {
      "cell_type": "markdown",
      "source": [
        "#Filtering"
      ],
      "metadata": {
        "id": "3gPY7iGqFPvl"
      }
    },
    {
      "cell_type": "code",
      "source": [
        "with open('', 'r') as json_file:\n",
        "    data_2 = json.load(json_file)"
      ],
      "metadata": {
        "id": "JdNB4zWvFasI"
      },
      "execution_count": null,
      "outputs": []
    },
    {
      "cell_type": "code",
      "source": [
        "list_1 = []"
      ],
      "metadata": {
        "id": "PO6tyv6uF0UM"
      },
      "execution_count": null,
      "outputs": []
    },
    {
      "cell_type": "code",
      "source": [
        "for i in range(700,len(data_1)):\n",
        "  print(f\"{i} = {data_1[i]['explanation']}\")"
      ],
      "metadata": {
        "id": "23wyxRSNDHoX"
      },
      "execution_count": null,
      "outputs": []
    },
    {
      "cell_type": "code",
      "source": [
        "list_1.append(data_1[1281]['explanation'])"
      ],
      "metadata": {
        "id": "r1KmKpjPF18Z"
      },
      "execution_count": null,
      "outputs": []
    },
    {
      "cell_type": "code",
      "source": [
        "combined_filtered_data_identifiers = {(entry[\"question\"], entry[\"short_context\"]) for entry in non_repeated_list_train}\n",
        "train_x = [entry for entry in non_repeated_list_test if (entry[\"question\"], entry[\"short_context\"]) not in combined_filtered_data_identifiers]"
      ],
      "metadata": {
        "id": "Zc0WRnsbbcnv"
      },
      "execution_count": null,
      "outputs": []
    },
    {
      "cell_type": "code",
      "source": [
        "len(train_x)"
      ],
      "metadata": {
        "colab": {
          "base_uri": "https://localhost:8080/"
        },
        "id": "Y4x683mrbpm-",
        "outputId": "7876e11c-2188-4a46-9b77-74ad555d0f38"
      },
      "execution_count": null,
      "outputs": [
        {
          "output_type": "execute_result",
          "data": {
            "text/plain": [
              "5329"
            ]
          },
          "metadata": {},
          "execution_count": 31
        }
      ]
    },
    {
      "cell_type": "code",
      "source": [
        "import pandas as pd\n",
        "list_1 = []\n",
        "for i in range(len(train_x)):\n",
        "  question = train_x[i]['question']\n",
        "  context = train_x[i]['short_context']\n",
        "  answer = train_x[i]['answer']\n",
        "  program = train_x[i]['program']\n",
        "  program_ans = train_x[i]['program_ans']\n",
        "\n",
        "  list_1.append({'context': context, 'question':question, 'program':program, 'answer':answer, 'program_ans':program_ans})\n",
        "\n",
        "df = pd.DataFrame(list_1, columns=['context', 'question', 'program', 'answer', 'program_ans'])"
      ],
      "metadata": {
        "id": "wdsoUzSbdSGc"
      },
      "execution_count": null,
      "outputs": []
    },
    {
      "cell_type": "code",
      "source": [
        "len(df)"
      ],
      "metadata": {
        "colab": {
          "base_uri": "https://localhost:8080/"
        },
        "id": "NAEADD1XdnKE",
        "outputId": "2cb9422b-442d-4270-c061-aa1c750c7501"
      },
      "execution_count": null,
      "outputs": [
        {
          "output_type": "execute_result",
          "data": {
            "text/plain": [
              "5329"
            ]
          },
          "metadata": {},
          "execution_count": 34
        }
      ]
    },
    {
      "cell_type": "code",
      "source": [
        "test_entry = [entry for entry in train if entry not in data]"
      ],
      "metadata": {
        "id": "H3ItWK_UInau"
      },
      "execution_count": null,
      "outputs": []
    },
    {
      "cell_type": "code",
      "source": [
        "len(train)"
      ],
      "metadata": {
        "colab": {
          "base_uri": "https://localhost:8080/"
        },
        "id": "LL_EceYBaHDC",
        "outputId": "6b9cd2b5-9621-4bd0-cd9f-fd09b7735ff8"
      },
      "execution_count": null,
      "outputs": [
        {
          "output_type": "execute_result",
          "data": {
            "text/plain": [
              "6251"
            ]
          },
          "metadata": {},
          "execution_count": 12
        }
      ]
    },
    {
      "cell_type": "code",
      "source": [
        "len(combined_filtered_data)"
      ],
      "metadata": {
        "colab": {
          "base_uri": "https://localhost:8080/"
        },
        "id": "6T6kCnidaI3-",
        "outputId": "81afc620-f24d-44c3-ab21-770abcd45168"
      },
      "execution_count": null,
      "outputs": [
        {
          "output_type": "execute_result",
          "data": {
            "text/plain": [
              "1175"
            ]
          },
          "metadata": {},
          "execution_count": 13
        }
      ]
    },
    {
      "cell_type": "code",
      "source": [
        "non_repeated_list_test = []\n",
        "\n",
        "hash_set = set()\n",
        "\n",
        "for item in data:\n",
        "    item_hash = hash(frozenset(item.items()))\n",
        "\n",
        "    if item_hash not in hash_set:\n",
        "        hash_set.add(item_hash)\n",
        "        non_repeated_list_test.append(item)\n",
        "\n",
        "len(non_repeated_list_test)"
      ],
      "metadata": {
        "colab": {
          "base_uri": "https://localhost:8080/"
        },
        "id": "LoiKlEFUcLEo",
        "outputId": "a84d7d11-6462-41ff-d35e-5234a3f0d8b9"
      },
      "execution_count": null,
      "outputs": [
        {
          "output_type": "execute_result",
          "data": {
            "text/plain": [
              "6202"
            ]
          },
          "metadata": {},
          "execution_count": 29
        }
      ]
    },
    {
      "cell_type": "code",
      "source": [
        "len(test_entry)"
      ],
      "metadata": {
        "colab": {
          "base_uri": "https://localhost:8080/"
        },
        "id": "aSwst_qbaMCy",
        "outputId": "6f0ea865-f41c-4021-c0d4-8b8d0570eb22"
      },
      "execution_count": null,
      "outputs": [
        {
          "output_type": "execute_result",
          "data": {
            "text/plain": [
              "6251"
            ]
          },
          "metadata": {},
          "execution_count": 18
        }
      ]
    },
    {
      "cell_type": "code",
      "source": [
        "data_1 = []\n",
        "for cell in test_entry:\n",
        "    question = cell[\"qa\"][\"question\"]\n",
        "    short_context = \" \".join(cell['qa']['gold_inds'].values())\n",
        "    program_answer = cell[\"qa\"]['exe_ans']\n",
        "    answer = cell[\"qa\"]['answer']\n",
        "    program = cell[\"qa\"]['program_re']\n",
        "    explanation = cell[\"qa\"][\"explanation\"]\n",
        "    data_1.append({\n",
        "        \"question\": question,\n",
        "        \"short_context\": short_context,\n",
        "        \"explanation\":explanation,\n",
        "        \"answer\": answer,\n",
        "        \"program\": program,\n",
        "        \"program_ans\":program_answer\n",
        "    })"
      ],
      "metadata": {
        "id": "r1qBUtz-F4cq"
      },
      "execution_count": null,
      "outputs": []
    },
    {
      "cell_type": "code",
      "source": [
        "import pandas as pd\n",
        "list_1 = []\n",
        "for i in range(len(data_1)):\n",
        "  question = data_1[i]['question']\n",
        "  context = data_1[i]['short_context']\n",
        "  program = data_1[i]['program']\n",
        "\n",
        "  list_1.append({'context': context, 'question':question, 'program':program})\n",
        "\n",
        "df = pd.DataFrame(list_1, columns=['context', 'question', 'program'])"
      ],
      "metadata": {
        "id": "WaC7YNzLFjua"
      },
      "execution_count": null,
      "outputs": []
    },
    {
      "cell_type": "code",
      "source": [
        "df.to_csv('test_dataset_model_1_v_x.csv', index=False)"
      ],
      "metadata": {
        "id": "VlYo2WT4GkXH"
      },
      "execution_count": null,
      "outputs": []
    },
    {
      "cell_type": "code",
      "source": [
        "filtered_test_entry = [entry for entry in test_entry if entry.get('qa', {}).get('program_re')]\n",
        "filtered_test_entry = [entry for entry in filtered_data_train if entry.get('qa', {}).get('explanation')]"
      ],
      "metadata": {
        "id": "z8gcF-UPFW-B"
      },
      "execution_count": null,
      "outputs": []
    },
    {
      "cell_type": "code",
      "source": [
        "with open('', 'r') as json_file_1:\n",
        "    data = json.load(json_file_1)"
      ],
      "metadata": {
        "id": "9H47YCP5FLk3"
      },
      "execution_count": null,
      "outputs": []
    },
    {
      "cell_type": "code",
      "source": [
        "with open('', 'w') as file:\n",
        "    json.dump(final_entries_1, file, indent=4)"
      ],
      "metadata": {
        "id": "iYv-PV9xaIOr"
      },
      "execution_count": null,
      "outputs": []
    },
    {
      "cell_type": "code",
      "source": [
        "final_review_entries = [entry for entry in review_entries if entry.get('question') in list_2]"
      ],
      "metadata": {
        "id": "YFcys2hnZMvp"
      },
      "execution_count": null,
      "outputs": []
    },
    {
      "cell_type": "code",
      "source": [
        "with open('', 'w') as file:\n",
        "    json.dump(final_review_entries, file, indent=4)"
      ],
      "metadata": {
        "id": "KKu0Ja3FZavc"
      },
      "execution_count": null,
      "outputs": []
    },
    {
      "cell_type": "code",
      "source": [
        "list_2 = []"
      ],
      "metadata": {
        "id": "9Aus7XaqbkYS"
      },
      "execution_count": null,
      "outputs": []
    },
    {
      "cell_type": "code",
      "source": [
        "list_2.append(review_entries[236]['question'])"
      ],
      "metadata": {
        "id": "fLF_RfppbxlY"
      },
      "execution_count": null,
      "outputs": []
    },
    {
      "cell_type": "code",
      "source": [
        "for i in range(len(review_entries)):\n",
        "  print(i)\n",
        "  print(review_entries[i]['question'])\n",
        "  print(review_entries[i]['explanation'])\n",
        "  print(print(review_entries[i]['program']))\n",
        "  print(\"\\n\\n\")"
      ],
      "metadata": {
        "id": "_BEvSFCKaGwI"
      },
      "execution_count": null,
      "outputs": []
    }
  ]
}